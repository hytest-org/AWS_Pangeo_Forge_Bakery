{
 "cells": [
  {
   "cell_type": "code",
   "execution_count": null,
   "metadata": {},
   "outputs": [],
   "source": [
    "import os\n",
    "import fsspec\n",
    "import xarray as xr\n",
    "from fsspec.implementations.sftp import SFTPFileSystem\n",
    "import fsspec"
   ]
  },
  {
   "cell_type": "markdown",
   "metadata": {},
   "source": [
    "Create SFTPFileSystem object to explore SFTP structure"
   ]
  },
  {
   "cell_type": "code",
   "execution_count": null,
   "metadata": {},
   "outputs": [],
   "source": [
    "sftp_host = os.environ[\"GLEAM_FTP\"][7:-1] # host should not have sftp prefix\n",
    "gleam_creds_sftp = dict(\n",
    "    username = os.environ[\"GLEAM_USER\"],\n",
    "    password = os.environ[\"GLEAM_PASSWORD\"],\n",
    "    port = int(os.environ[\"GLEAM_PORT\"])\n",
    "    )"
   ]
  },
  {
   "cell_type": "code",
   "execution_count": null,
   "metadata": {},
   "outputs": [],
   "source": [
    "# create link\n",
    "fs_sftp = SFTPFileSystem(host=sftp_host, **gleam_creds_sftp)"
   ]
  },
  {
   "cell_type": "markdown",
   "metadata": {},
   "source": [
    "Explore file structure"
   ]
  },
  {
   "cell_type": "code",
   "execution_count": null,
   "metadata": {},
   "outputs": [],
   "source": [
    "fs_sftp.ls(\"./\")"
   ]
  },
  {
   "cell_type": "code",
   "execution_count": null,
   "metadata": {},
   "outputs": [],
   "source": [
    "fs_sftp.ls(\"./data\")"
   ]
  },
  {
   "cell_type": "code",
   "execution_count": null,
   "metadata": {},
   "outputs": [],
   "source": [
    "fs_sftp.ls(\"./data/v3.7b\")"
   ]
  },
  {
   "cell_type": "code",
   "execution_count": null,
   "metadata": {},
   "outputs": [],
   "source": [
    "fs_sftp.ls(\"./data/v3.7b/daily\")"
   ]
  },
  {
   "cell_type": "code",
   "execution_count": null,
   "metadata": {},
   "outputs": [],
   "source": [
    "fs_sftp.ls(\"./data/v3.7b/daily/2003\")"
   ]
  },
  {
   "cell_type": "code",
   "execution_count": null,
   "metadata": {},
   "outputs": [],
   "source": [
    "# see info on file\n",
    "fs_sftp.info('./data/v3.7b/daily/2003/Et_2003_GLEAM_v3.7b.nc')"
   ]
  },
  {
   "cell_type": "markdown",
   "metadata": {},
   "source": [
    "Download files"
   ]
  },
  {
   "cell_type": "code",
   "execution_count": null,
   "metadata": {},
   "outputs": [],
   "source": [
    "# this will download the file\n",
    "# fs_sftp.get('./data/v3.7b/daily/2003/Et_2003_GLEAM_v3.7b.nc', \"\")"
   ]
  },
  {
   "cell_type": "code",
   "execution_count": null,
   "metadata": {},
   "outputs": [],
   "source": [
    "glob_path = \"./data/v3.7b/daily/*/Et*\""
   ]
  },
  {
   "cell_type": "code",
   "execution_count": null,
   "metadata": {},
   "outputs": [],
   "source": [
    "# use glob to get all Et files\n",
    "Et_file_paths = fs_sftp.glob(\"./data/v3.7b/daily/*/Et*\")\n",
    "# [print(f) for f in Et_file_paths]"
   ]
  },
  {
   "cell_type": "code",
   "execution_count": null,
   "metadata": {},
   "outputs": [],
   "source": [
    "# set download directory\n",
    "download_fp = \"./download2/\""
   ]
  },
  {
   "cell_type": "code",
   "execution_count": null,
   "metadata": {},
   "outputs": [],
   "source": [
    "fs_sftp.get(rpath=glob_path, lpath=download_fp)"
   ]
  },
  {
   "cell_type": "code",
   "execution_count": null,
   "metadata": {},
   "outputs": [],
   "source": [
    "# download all files from SFTP server\n",
    "for file in Et_file_paths[0:2]:\n",
    "    fs_sftp.get(file, download_fp)"
   ]
  },
  {
   "cell_type": "code",
   "execution_count": null,
   "metadata": {},
   "outputs": [],
   "source": [
    "fs_sftp.get?"
   ]
  },
  {
   "cell_type": "markdown",
   "metadata": {},
   "source": [
    "Create dictionary of environmental variables for GLEAM"
   ]
  },
  {
   "cell_type": "code",
   "execution_count": null,
   "metadata": {},
   "outputs": [],
   "source": [
    "fs_sftp?"
   ]
  },
  {
   "cell_type": "code",
   "execution_count": null,
   "metadata": {},
   "outputs": [],
   "source": [
    "gleam_creds = dict(\n",
    "    username = os.environ[\"GLEAM_USER\"],\n",
    "    password = os.environ[\"GLEAM_PASSWORD\"],\n",
    "    port = int(os.environ[\"GLEAM_PORT\"])\n",
    "    )"
   ]
  },
  {
   "cell_type": "markdown",
   "metadata": {},
   "source": [
    "Check that open file objects will work"
   ]
  },
  {
   "cell_type": "code",
   "execution_count": null,
   "metadata": {},
   "outputs": [],
   "source": [
    "years = range(2003, 2023)\n",
    "\n",
    "for year in years:\n",
    "    # format file path on SFTP\n",
    "    filepath = f\"data/v3.7b/daily/{year}/Et_{year}_GLEAM_v3.7b.nc\"\n",
    "    # create full URL\n",
    "    urlpath = os.environ[\"GLEAM_FTP\"] + filepath\n",
    "\n",
    "    # add to credentials to send to fsspec.open\n",
    "    gleam_creds[\"urlpath\"] = urlpath\n",
    "\n",
    "    # create OpenFile object\n",
    "    file = fsspec.open(**gleam_creds)\n",
    "    print(file)"
   ]
  },
  {
   "cell_type": "markdown",
   "metadata": {},
   "source": [
    "## Start creating pangeo-forge-recipe"
   ]
  },
  {
   "cell_type": "code",
   "execution_count": null,
   "metadata": {},
   "outputs": [],
   "source": [
    "import pandas as pd\n",
    "from pangeo_forge_recipes.patterns import ConcatDim, FilePattern\n",
    "import apache_beam as beam\n",
    "from pangeo_forge_recipes.transforms import OpenURLWithFSSpec, OpenWithXarray, StoreToZarr\n",
    "from tempfile import TemporaryDirectory"
   ]
  },
  {
   "cell_type": "markdown",
   "metadata": {},
   "source": [
    "Create time range"
   ]
  },
  {
   "cell_type": "code",
   "execution_count": null,
   "metadata": {},
   "outputs": [],
   "source": [
    "dates = pd.date_range(\"2003\", \"2005\", freq=\"A\")"
   ]
  },
  {
   "cell_type": "code",
   "execution_count": null,
   "metadata": {},
   "outputs": [],
   "source": [
    "time_concat_dim = ConcatDim(\"time\", dates, nitems_per_file=1)\n",
    "time_concat_dim"
   ]
  },
  {
   "cell_type": "code",
   "execution_count": null,
   "metadata": {},
   "outputs": [],
   "source": [
    "base_url = \"sftp://hydras.ugent.be/data/v3.7b/daily/{time:%Y}/Et_{time:%Y}_GLEAM_v3.7b.nc\""
   ]
  },
  {
   "cell_type": "code",
   "execution_count": null,
   "metadata": {},
   "outputs": [],
   "source": [
    "def make_url(time):\n",
    "    return base_url.format(time=time)"
   ]
  },
  {
   "cell_type": "code",
   "execution_count": null,
   "metadata": {},
   "outputs": [],
   "source": [
    "make_url(dates[-1])"
   ]
  },
  {
   "cell_type": "code",
   "execution_count": null,
   "metadata": {},
   "outputs": [],
   "source": [
    "pattern = FilePattern(make_url, time_concat_dim, fsspec_open_kwargs=gleam_creds)\n",
    "pattern"
   ]
  },
  {
   "cell_type": "code",
   "execution_count": null,
   "metadata": {},
   "outputs": [],
   "source": [
    "for index, url in pattern.items():\n",
    "    print(index)\n",
    "    print(url)\n",
    "    # Stop after the 3rd filepath (September 3rd, 1981)\n",
    "    if '19810903' in url:\n",
    "        break"
   ]
  },
  {
   "cell_type": "code",
   "execution_count": null,
   "metadata": {},
   "outputs": [],
   "source": [
    "td = TemporaryDirectory()\n",
    "target_path = td.name\n",
    "target_name = \"output.zarr\"\n",
    "target_path"
   ]
  },
  {
   "cell_type": "code",
   "execution_count": null,
   "metadata": {},
   "outputs": [],
   "source": [
    "transforms = (\n",
    "    beam.Create(pattern.items())\n",
    "    | OpenURLWithFSSpec()\n",
    "    | OpenWithXarray(file_type=pattern.file_type)\n",
    "    | StoreToZarr(\n",
    "        target_root=target_path,\n",
    "        store_name=target_name,\n",
    "        combine_dims=pattern.combine_dim_keys,\n",
    "    )\n",
    ")\n",
    "transforms"
   ]
  },
  {
   "cell_type": "markdown",
   "metadata": {},
   "source": [
    "Run!"
   ]
  },
  {
   "cell_type": "code",
   "execution_count": null,
   "metadata": {},
   "outputs": [],
   "source": [
    "with beam.Pipeline() as p:\n",
    "    p | transforms"
   ]
  }
 ],
 "metadata": {
  "kernelspec": {
   "display_name": "pfrecip",
   "language": "python",
   "name": "python3"
  },
  "language_info": {
   "codemirror_mode": {
    "name": "ipython",
    "version": 3
   },
   "file_extension": ".py",
   "mimetype": "text/x-python",
   "name": "python",
   "nbconvert_exporter": "python",
   "pygments_lexer": "ipython3",
   "version": "3.10.12"
  },
  "orig_nbformat": 4
 },
 "nbformat": 4,
 "nbformat_minor": 2
}
